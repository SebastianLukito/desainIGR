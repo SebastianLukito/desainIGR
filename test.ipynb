{
 "cells": [
  {
   "cell_type": "code",
   "execution_count": 3,
   "metadata": {},
   "outputs": [
    {
     "data": {
      "text/plain": [
       "{'format': 'PNG', 'mode': 'RGBA', 'size': (649, 866)}"
      ]
     },
     "execution_count": 3,
     "metadata": {},
     "output_type": "execute_result"
    }
   ],
   "source": [
    "from PIL import Image\n",
    "\n",
    "# Buka file gambar yang diunggah\n",
    "image_path = \"assets/img/sherly.png\"\n",
    "image = Image.open(image_path)\n",
    "\n",
    "# Tampilkan detail gambar\n",
    "# image.show()\n",
    "\n",
    "# Dapatkan detail gambar\n",
    "image_details = {\n",
    "    \"format\": image.format,\n",
    "    \"mode\": image.mode,\n",
    "    \"size\": image.size,\n",
    "}\n",
    "image_details"
   ]
  }
 ],
 "metadata": {
  "kernelspec": {
   "display_name": "Python 3",
   "language": "python",
   "name": "python3"
  },
  "language_info": {
   "codemirror_mode": {
    "name": "ipython",
    "version": 3
   },
   "file_extension": ".py",
   "mimetype": "text/x-python",
   "name": "python",
   "nbconvert_exporter": "python",
   "pygments_lexer": "ipython3",
   "version": "3.12.4"
  }
 },
 "nbformat": 4,
 "nbformat_minor": 2
}
